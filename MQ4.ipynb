{
 "cells": [
  {
   "cell_type": "markdown",
   "metadata": {},
   "source": [
    "Andréia Molling, 00314622"
   ]
  },
  {
   "cell_type": "markdown",
   "metadata": {},
   "source": [
    "Questao 1\n",
    "\n",
    "$\\left \\langle e^{ikx} | e^{ik'x} \\right \\rangle = 2 \\pi \\delta(k'-k)$\n",
    "\n",
    "\n",
    "$ \\lim_{\\epsilon \\to 0} \\int_{-\\infty}^{\\infty} {e^{ix(k' - k)}} \\cdot e^{-\\epsilon|x|} \\: dx     $\n",
    "\n",
    "$ \\lim_{\\epsilon \\to 0} \\int_{-\\infty}^{0} {e^{ix(k' - k)}} \\cdot e^{+\\epsilon x} \\: dx     + \\int_{0}^{\\infty} {e^{ix(k' - k)}} \\cdot e^{-\\epsilon x} \\: dx     $\n",
    "\n",
    "$ \\lim_{\\epsilon \\to 0} \\int_{-\\infty}^{0} e^{+\\epsilon x} \\cdot (cos((k' - k)x) + isen((k' - k)x))\\: dx     + \\int_{0}^{\\infty}  e^{-\\epsilon x} \\cdot (cos((k' - k)x) + isen((k' - k)x))\\: dx     $\n",
    "\n",
    "$ \\lim_{\\epsilon \\to 0} \\int_{0}^{\\infty} e^{-\\epsilon x} \\cdot (cos((k' - k)x) - isen((k' - k)x))\\: dx     + \\int_{0}^{\\infty}  e^{-\\epsilon x} \\cdot (cos((k' - k)x) + isen((k' - k)x))\\: dx     $\n",
    "\n",
    "$\\lim_{\\epsilon \\to 0}  2 \\cdot \\int_{0}^{\\infty} e^{-\\epsilon x} \\cdot (cos((k' - k)x) )\\: dx      $\n",
    "\n",
    "Integrando com o aplicativo Symbolab\n",
    "\n",
    "$\\lim_{\\epsilon \\to 0}\\frac{2 \\cdot \\epsilon}{\\epsilon^2 + \\Delta k ^2}, onde   \\Delta k = (k' -k) $\n",
    "\n",
    "$ \\int_{-\\infty}^{\\infty} \\lim_{\\epsilon \\to 0} \\frac{2 \\cdot \\epsilon}{\\epsilon^2 + \\Delta k ^2}\\: dk      $\n",
    "\n",
    "$ \\lim_{\\epsilon \\to 0} [\\int_{-\\infty}^{\\infty}  \\frac{2 \\cdot \\epsilon}{\\epsilon^2 + \\Delta k ^2}\\: dk]     $\n",
    "\n",
    "$       2 \\pi  $\n",
    "\n",
    "A integral normalizada:\n",
    "\n",
    "$  \\int_{-\\infty}^{\\infty} \\frac{e^{-ixk}}{\\sqrt{2 \\pi}} \\cdot \\frac{e^{ixk'}}{\\sqrt{2 \\pi}}  \\: dx =   \\delta(k'-k)   $\n",
    "\n",
    "$\\left \\langle e^{ikx} | e^{ik'x} \\right \\rangle = 2 \\pi \\delta(k'-k)$"
   ]
  },
  {
   "cell_type": "code",
   "execution_count": 63,
   "metadata": {},
   "outputs": [
    {
     "data": {
      "text/plain": [
       "<matplotlib.legend.Legend at 0x1e5667c0>"
      ]
     },
     "execution_count": 63,
     "metadata": {},
     "output_type": "execute_result"
    },
    {
     "data": {
      "image/png": "[encoded data removed]",
      "text/plain": [
       "<Figure size 1080x720 with 1 Axes>"
      ]
     },
     "metadata": {
      "needs_background": "light"
     },
     "output_type": "display_data"
    }
   ],
   "source": [
    "import math\n",
    "import numpy as np\n",
    "import matplotlib.pyplot as plt\n",
    "import scipy.integrate as integrate\n",
    "import scipy\n",
    "\n",
    "    \n",
    "def fx(eps,deltak):\n",
    "    return 2*eps / (eps**2 + deltak**2)\n",
    "\n",
    "eps = [0.0001,0.001,0.01,0.1]\n",
    "deltak = np.arange(-10,10,0.1)\n",
    "\n",
    "fix, ax = plt.subplots(figsize=(15,10))\n",
    "for i in eps:\n",
    "    \n",
    "    #area, g = scipy.integrate.quad(lambda deltak: fx(i,deltak),-np.inf,np.inf)\n",
    "    plt.plot(deltak, fx(i,deltak), label='$\\epsilon$ = {0}, área = {1}'.format(i,area))\n",
    "    \n",
    "\n",
    "plt.ylabel('F($\\Delta k$)')\n",
    "plt.xlabel('$\\Delta k$')\n",
    "plt.legend()"
   ]
  },
  {
   "cell_type": "markdown",
   "metadata": {},
   "source": [
    "Questao 3\n",
    "\n",
    "$\\left \\langle \\frac{1}{\\sqrt{2 \\pi \\hbar}}e^{\\frac{ip_0 x }{\\hbar}}| \\frac{1}{\\sqrt{2 \\pi \\hbar}}e^{\\frac{ip_1 x }{\\hbar}} \\right \\rangle $\n",
    "\n",
    "\n",
    "E seguindo os mesmos passos da 1:\n",
    "\n",
    "$ \\frac{1}{\\sqrt {2 \\pi \\hbar}}   \\int_{-\\infty}^{\\infty} e^{\\frac{ix}{\\hbar}{(p_1 - p_0)}} \\cdot e^{-\\epsilon|x|} \\: dx    $...\n",
    "\n",
    "\n",
    "$\\left \\langle \\frac{1}{\\sqrt{2 \\pi \\hbar}}e^{\\frac{ip_0 x }{\\hbar}}| \\frac{1}{\\sqrt{2 \\pi \\hbar}}e^{\\frac{ip_1 x }{\\hbar}} \\right \\rangle = \\frac{1}{\\sqrt{2 \\pi \\hbar}} \\delta(\\frac{p1}{\\hbar} -\\frac{p_0}{\\hbar}) $\n",
    "\n",
    "Um conjunto é ortonormal se $f_n(x)$ estão normalizadas e são ortogonais:\n",
    "\n",
    "$\\left \\langle fn | fm  \\right \\rangle = \\delta_{mn} = $\n",
    "\n",
    "$ 1 \\to m=n $\n",
    "\n",
    "$  0 \\to m \\neq n $\n",
    "\n",
    "Como $p_0  \\neq p_1$,  eles são ortogonais, pois seu produto interno é zero.\n",
    "\n",
    "E são completas se $C_n =\\left \\langle fn | f  \\right \\rangle $\n",
    "\n",
    "$ \\left \\langle fn | f  \\right \\rangle = \\left \\langle fn | \\sum_m C_m f_m  \\right \\rangle $\n",
    "\n",
    "$ \\left \\langle fn | f  \\right \\rangle = \\sum_m C_m \\left \\langle f_n | f_m  \\right \\rangle $\n",
    "\n",
    "$\\left \\langle fn | f  \\right \\rangle = \\sum_m C_m \\delta_{mn} $ E como $\\delta mn = 0$, visto que $m \\neq n$, então o resultado é o próprio $C_n$\n",
    "\n",
    "Como $p_0  \\neq p_1$, portanto os estados de momentum são completos.\n",
    "\n",
    "\n",
    "\n",
    "$ \\int |e^{\\frac{ip_0 x }{\\hbar}}|^2 dx = \\delta (0)= \\infty $, diverge e não pertence a F\n",
    "\n",
    "\n",
    "\n",
    "\n",
    "\n",
    "\n"
   ]
  },
  {
   "cell_type": "markdown",
   "metadata": {},
   "source": [
    "Questao 4\n",
    "\n",
    "De acordo com a 3, usando as mesmas definições, ela é ortonormal e completa.\n",
    "\n",
    "$\\int_{-\\infty}^{\\infty} \\delta (x - x_o) \\cdot f(x) \\: dx = f(x_0) $\n",
    "\n",
    "$ f(x) = \\delta(x-x_0)$\n",
    "\n",
    "$\\int_{-\\infty}^{\\infty} \\delta (x - x_o) \\cdot \\delta (x - x_o) \\: dx = \\int_{-\\infty}^{\\infty} (\\delta (x - x_o))^2  \\: dx  = \\delta(x_0 - x_0) = \\delta(0)$\n",
    "\n",
    "$= \\infty $, diverge e não pertence a F\n",
    "\n"
   ]
  },
  {
   "cell_type": "markdown",
   "metadata": {},
   "source": [
    "Questao 5\n",
    "\n",
    "\n",
    "\n",
    "$ |A \\rangle = \\begin{pmatrix} 2i \\\\ -5 \\\\ 3i \\end{pmatrix}$\n",
    "\n",
    "$   \\langle A  | =  -2i   -5   -3i   $\n",
    "\n",
    "$ |B \\rangle = \\begin{pmatrix} 5i \\\\ -2 \\\\ i \\end{pmatrix}$\n",
    "\n",
    "\n",
    "$ \\langle A|B \\rangle = (-2i \\langle i|  -5 \\langle j|  +3i \\langle k| )( 5i  | i \\rangle  -2 | j \\rangle + i | k \\rangle )$\n",
    "\n",
    "$ \\langle A|B \\rangle = (-2i)(5) \\langle i | i \\rangle +  (-5)(-2) \\langle j | j \\rangle + (3i)(i) \\langle k | k \\rangle = -10i +10 -3= 7 -10i $\n",
    "\n",
    "\n",
    "\n",
    "\n"
   ]
  },
  {
   "cell_type": "markdown",
   "metadata": {},
   "source": [
    "5 letra A\n",
    "\n",
    "\n",
    "$ | 1  \\rangle = | i  \\rangle + | j  \\rangle , Norma = \\sqrt{1^2 + 1^2} = \\sqrt{2}$\n",
    "\n",
    "$ | 2  \\rangle = | i  \\rangle - | j  \\rangle, Norma = \\sqrt{(-1)^2 + 1^2} = \\sqrt{2}$\n",
    "\n",
    "$ | 3  \\rangle = | k  \\rangle, Norma = \\sqrt{1^2} = 1$\n",
    "\n",
    "$A_{11} = \\langle 1 | a \\rangle \\langle a | 1 \\rangle ; A_{12} = \\langle 1| a \\rangle \\langle a | 2\\rangle, A_{13} = \\langle 1| a \\rangle \\langle a | 3 \\rangle$\n",
    "\n",
    "$A_{21} = \\langle 2 | a \\rangle \\langle a | 1\\rangle ; A_{22} = \\langle 2 | a \\rangle \\langle a | 2\\rangle, A_{23} = \\langle 2| a \\rangle \\langle a | 3\\rangle$\n",
    "\n",
    "$A_{31} = \\langle 3 | a \\rangle \\langle a | 1 \\rangle ; A_{32} = \\langle 3 | a \\rangle \\langle a | 2\\rangle, A_{33} = \\langle 3 | a \\rangle \\langle a | 3 \\rangle$\n",
    "\n",
    "Matriz de cada base normalizada: \n",
    "\n",
    "$B1 = \\begin{pmatrix}\n",
    "\\frac{1}{\\sqrt{2}} & \\frac{1}{\\sqrt{2}} & 0\\\\\n",
    "\\frac{1}{\\sqrt{2}} & \\frac{1}{\\sqrt{2}} & 0 \\\\\n",
    "0 & 0  & 0 \\\\\n",
    "\\end{pmatrix}$\n",
    "\n",
    "\n",
    "\n",
    "$B2 = \\begin{pmatrix}\n",
    "\\frac{1}{\\sqrt{2}} & -\\frac{1}{\\sqrt{2}} & 0\\\\\n",
    "\\frac{-1}{\\sqrt{2}} &  \\frac{1}{\\sqrt{2}} & 0 \\\\\n",
    "0 & 0  & 0 \\\\\n",
    "\\end{pmatrix}$\n",
    "\n",
    "\n",
    "\n",
    "\n",
    "$B3 = \\begin{pmatrix}\n",
    "0 & 0 & 0\\\\\n",
    "0 & 0 & 0 \\\\\n",
    "0 & 0  & 1 \\\\\n",
    "\\end{pmatrix}$\n",
    "\n",
    "$ Soma = \\begin{pmatrix}\n",
    "1 & 0 & 0\\\\\n",
    "0 & 1  & 0 \\\\\n",
    "0 & 0  & 1 \\\\\n",
    "\\end{pmatrix}$\n",
    "\n",
    "Como a soma dos projetos é igual a identidade, ela pode ser usada, algebricamente, para realizar mudança de base."
   ]
  },
  {
   "cell_type": "code",
   "execution_count": 59,
   "metadata": {},
   "outputs": [
    {
     "data": {
      "text/plain": [
       "matrix([[ 1.+0.j,  0.+0.j,  0.+0.j],\n",
       "        [ 0.+0.j,  1.+0.j,  0.+2.j],\n",
       "        [ 0.+0.j, -0.-2.j, -3.+0.j]])"
      ]
     },
     "execution_count": 59,
     "metadata": {},
     "output_type": "execute_result"
    }
   ],
   "source": [
    "#5 letra B\n",
    "A = np.matrix([[1, 0, 0],\n",
    "               [0, 1,  2j],\n",
    "               [0, -2j, -3]])\n",
    "\n",
    "A"
   ]
  },
  {
   "cell_type": "code",
   "execution_count": 60,
   "metadata": {},
   "outputs": [],
   "source": [
    "autovalores, autovetores = np.linalg.eig(A)"
   ]
  },
  {
   "cell_type": "code",
   "execution_count": 61,
   "metadata": {},
   "outputs": [
    {
     "name": "stdout",
     "output_type": "stream",
     "text": [
      "[-3.82842712+0.j  1.82842712+0.j  1.        +0.j] são reais pois 0j\n"
     ]
    }
   ],
   "source": [
    "#Verificar se são reais\n",
    "print(autovalores, \"são reais pois 0j\")\n"
   ]
  },
  {
   "cell_type": "code",
   "execution_count": 62,
   "metadata": {},
   "outputs": [
    {
     "name": "stdout",
     "output_type": "stream",
     "text": [
      "-0.7071067811865475j 0j 0j\n"
     ]
    }
   ],
   "source": [
    "a11 = np.squeeze(np.asarray(autovetores[:,0]))\n",
    "a22 = np.squeeze(np.asarray(autovetores[:,1]))\n",
    "a33 = np.squeeze(np.asarray(autovetores[:,2]))\n",
    "\n",
    "print(a11 @ a22,\n",
    "a22 @ a33,\n",
    "a33 @ a11)"
   ]
  }
 ],
 "metadata": {
  "kernelspec": {
   "display_name": "Python 3",
   "language": "python",
   "name": "python3"
  },
  "language_info": {
   "codemirror_mode": {
    "name": "ipython",
    "version": 3
   },
   "file_extension": ".py",
   "mimetype": "text/x-python",
   "name": "python",
   "nbconvert_exporter": "python",
   "pygments_lexer": "ipython3",
   "version": "3.8.5"
  }
 },
 "nbformat": 4,
 "nbformat_minor": 4
}
